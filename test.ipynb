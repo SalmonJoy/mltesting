{
 "cells": [
  {
   "cell_type": "code",
   "execution_count": 2,
   "metadata": {},
   "outputs": [],
   "source": [
    "import tensorflow as tf\n",
    "from tensorflow import keras\n",
    "import matplotlib.pyplot as plt\n",
    "%matplotlib inline\n",
    "import numpy as np"
   ]
  },
  {
   "cell_type": "code",
   "execution_count": 3,
   "metadata": {},
   "outputs": [
    {
     "data": {
      "image/png": "[encoded data removed]",
      "text/plain": [
       "<Figure size 480x480 with 1 Axes>"
      ]
     },
     "metadata": {},
     "output_type": "display_data"
    }
   ],
   "source": [
    "img1=[[122,0,0],[0,0,0],[0,0,0]]\n",
    "img2=[[0,0,0],[0,122,0],[0,0,0]]\n",
    "img3=[[0,0,0],[0,0,0],[0,0,122]]\n",
    "img4=[[0,0,122],[0,0,0],[0,0,0]]\n",
    "img5=[[0,0,0],[0,0,0],[122,0,0]]\n",
    "\n",
    "\n",
    "x=np.array([img1,img2,img3,img4,img5])\n",
    "plt.matshow(x[4])\n",
    "flat_x=x.reshape(5,9)"
   ]
  },
  {
   "cell_type": "code",
   "execution_count": 4,
   "metadata": {},
   "outputs": [
    {
     "name": "stdout",
     "output_type": "stream",
     "text": [
      "(5, 3, 3)\n",
      "(5, 9)\n"
     ]
    }
   ],
   "source": [
    "print(x.shape)\n",
    "print(flat_x.shape)"
   ]
  },
  {
   "cell_type": "code",
   "execution_count": 5,
   "metadata": {},
   "outputs": [
    {
     "name": "stdout",
     "output_type": "stream",
     "text": [
      "[[122   0   0]\n",
      " [  0   0   0]\n",
      " [  0   0   0]]\n",
      "\n",
      "[122   0   0   0   0   0   0   0   0]\n"
     ]
    }
   ],
   "source": [
    "print(x[0])\n",
    "print()\n",
    "print(flat_x[0])"
   ]
  },
  {
   "cell_type": "code",
   "execution_count": null,
   "metadata": {},
   "outputs": [],
   "source": []
  }
 ],
 "metadata": {
  "kernelspec": {
   "display_name": "Python 3",
   "language": "python",
   "name": "python3"
  },
  "language_info": {
   "codemirror_mode": {
    "name": "ipython",
    "version": 3
   },
   "file_extension": ".py",
   "mimetype": "text/x-python",
   "name": "python",
   "nbconvert_exporter": "python",
   "pygments_lexer": "ipython3",
   "version": "3.11.5"
  },
  "orig_nbformat": 4
 },
 "nbformat": 4,
 "nbformat_minor": 2
}
